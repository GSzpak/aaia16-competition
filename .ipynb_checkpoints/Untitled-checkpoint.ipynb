{
 "cells": [
  {
   "cell_type": "code",
   "execution_count": 1,
   "metadata": {
    "collapsed": false
   },
   "outputs": [
    {
     "name": "stdout",
     "output_type": "stream",
     "text": [
      "4.0\n",
      "4.0\n",
      "4.0\n"
     ]
    }
   ],
   "source": [
    "x1 = [i for i in xrange(48)]\n",
    "x2 = [i + 1 for i in xrange(48)]\n",
    "import numpy as np\n",
    "x1 = np.asarray(x1, dtype=np.float64)\n",
    "x2 = np.asarray(x2, dtype=np.float64)\n",
    "from src.knn.distance import multidimensional_dynamic_time_warping\n",
    "print multidimensional_dynamic_time_warping(x1, x2)\n",
    "from src.c_sources.c_distances import md_dtw\n",
    "print md_dtw(x1, x2)"
   ]
  },
  {
   "cell_type": "code",
   "execution_count": 1,
   "metadata": {
    "collapsed": false
   },
   "outputs": [
    {
     "name": "stdout",
     "output_type": "stream",
     "text": [
      "2.0\n",
      "2.0\n",
      "(0.041666666666666664, array([[  1.,   2.,   3.,   4.,   5.,   6.,   7.,   8.,   9.,  10.,  11.,\n",
      "         12.,  13.,  14.,  15.,  16.,  17.,  18.,  19.,  20.,  21.,  22.,\n",
      "         23.,  24.],\n",
      "       [  0.,   1.,   2.,   3.,   4.,   5.,   6.,   7.,   8.,   9.,  10.,\n",
      "         11.,  12.,  13.,  14.,  15.,  16.,  17.,  18.,  19.,  20.,  21.,\n",
      "         22.,  23.],\n",
      "       [  1.,   0.,   1.,   2.,   3.,   4.,   5.,   6.,   7.,   8.,   9.,\n",
      "         10.,  11.,  12.,  13.,  14.,  15.,  16.,  17.,  18.,  19.,  20.,\n",
      "         21.,  22.],\n",
      "       [  2.,   1.,   0.,   1.,   2.,   3.,   4.,   5.,   6.,   7.,   8.,\n",
      "          9.,  10.,  11.,  12.,  13.,  14.,  15.,  16.,  17.,  18.,  19.,\n",
      "         20.,  21.],\n",
      "       [  3.,   2.,   1.,   0.,   1.,   2.,   3.,   4.,   5.,   6.,   7.,\n",
      "          8.,   9.,  10.,  11.,  12.,  13.,  14.,  15.,  16.,  17.,  18.,\n",
      "         19.,  20.],\n",
      "       [  4.,   3.,   2.,   1.,   0.,   1.,   2.,   3.,   4.,   5.,   6.,\n",
      "          7.,   8.,   9.,  10.,  11.,  12.,  13.,  14.,  15.,  16.,  17.,\n",
      "         18.,  19.],\n",
      "       [  5.,   4.,   3.,   2.,   1.,   0.,   1.,   2.,   3.,   4.,   5.,\n",
      "          6.,   7.,   8.,   9.,  10.,  11.,  12.,  13.,  14.,  15.,  16.,\n",
      "         17.,  18.],\n",
      "       [  6.,   5.,   4.,   3.,   2.,   1.,   0.,   1.,   2.,   3.,   4.,\n",
      "          5.,   6.,   7.,   8.,   9.,  10.,  11.,  12.,  13.,  14.,  15.,\n",
      "         16.,  17.],\n",
      "       [  7.,   6.,   5.,   4.,   3.,   2.,   1.,   0.,   1.,   2.,   3.,\n",
      "          4.,   5.,   6.,   7.,   8.,   9.,  10.,  11.,  12.,  13.,  14.,\n",
      "         15.,  16.],\n",
      "       [  8.,   7.,   6.,   5.,   4.,   3.,   2.,   1.,   0.,   1.,   2.,\n",
      "          3.,   4.,   5.,   6.,   7.,   8.,   9.,  10.,  11.,  12.,  13.,\n",
      "         14.,  15.],\n",
      "       [  9.,   8.,   7.,   6.,   5.,   4.,   3.,   2.,   1.,   0.,   1.,\n",
      "          2.,   3.,   4.,   5.,   6.,   7.,   8.,   9.,  10.,  11.,  12.,\n",
      "         13.,  14.],\n",
      "       [ 10.,   9.,   8.,   7.,   6.,   5.,   4.,   3.,   2.,   1.,   0.,\n",
      "          1.,   2.,   3.,   4.,   5.,   6.,   7.,   8.,   9.,  10.,  11.,\n",
      "         12.,  13.],\n",
      "       [ 11.,  10.,   9.,   8.,   7.,   6.,   5.,   4.,   3.,   2.,   1.,\n",
      "          0.,   1.,   2.,   3.,   4.,   5.,   6.,   7.,   8.,   9.,  10.,\n",
      "         11.,  12.],\n",
      "       [ 12.,  11.,  10.,   9.,   8.,   7.,   6.,   5.,   4.,   3.,   2.,\n",
      "          1.,   0.,   1.,   2.,   3.,   4.,   5.,   6.,   7.,   8.,   9.,\n",
      "         10.,  11.],\n",
      "       [ 13.,  12.,  11.,  10.,   9.,   8.,   7.,   6.,   5.,   4.,   3.,\n",
      "          2.,   1.,   0.,   1.,   2.,   3.,   4.,   5.,   6.,   7.,   8.,\n",
      "          9.,  10.],\n",
      "       [ 14.,  13.,  12.,  11.,  10.,   9.,   8.,   7.,   6.,   5.,   4.,\n",
      "          3.,   2.,   1.,   0.,   1.,   2.,   3.,   4.,   5.,   6.,   7.,\n",
      "          8.,   9.],\n",
      "       [ 15.,  14.,  13.,  12.,  11.,  10.,   9.,   8.,   7.,   6.,   5.,\n",
      "          4.,   3.,   2.,   1.,   0.,   1.,   2.,   3.,   4.,   5.,   6.,\n",
      "          7.,   8.],\n",
      "       [ 16.,  15.,  14.,  13.,  12.,  11.,  10.,   9.,   8.,   7.,   6.,\n",
      "          5.,   4.,   3.,   2.,   1.,   0.,   1.,   2.,   3.,   4.,   5.,\n",
      "          6.,   7.],\n",
      "       [ 17.,  16.,  15.,  14.,  13.,  12.,  11.,  10.,   9.,   8.,   7.,\n",
      "          6.,   5.,   4.,   3.,   2.,   1.,   0.,   1.,   2.,   3.,   4.,\n",
      "          5.,   6.],\n",
      "       [ 18.,  17.,  16.,  15.,  14.,  13.,  12.,  11.,  10.,   9.,   8.,\n",
      "          7.,   6.,   5.,   4.,   3.,   2.,   1.,   0.,   1.,   2.,   3.,\n",
      "          4.,   5.],\n",
      "       [ 19.,  18.,  17.,  16.,  15.,  14.,  13.,  12.,  11.,  10.,   9.,\n",
      "          8.,   7.,   6.,   5.,   4.,   3.,   2.,   1.,   0.,   1.,   2.,\n",
      "          3.,   4.],\n",
      "       [ 20.,  19.,  18.,  17.,  16.,  15.,  14.,  13.,  12.,  11.,  10.,\n",
      "          9.,   8.,   7.,   6.,   5.,   4.,   3.,   2.,   1.,   0.,   1.,\n",
      "          2.,   3.],\n",
      "       [ 21.,  20.,  19.,  18.,  17.,  16.,  15.,  14.,  13.,  12.,  11.,\n",
      "         10.,   9.,   8.,   7.,   6.,   5.,   4.,   3.,   2.,   1.,   0.,\n",
      "          1.,   2.],\n",
      "       [ 22.,  21.,  20.,  19.,  18.,  17.,  16.,  15.,  14.,  13.,  12.,\n",
      "         11.,  10.,   9.,   8.,   7.,   6.,   5.,   4.,   3.,   2.,   1.,\n",
      "          0.,   1.]]), array([[   1.,    3.,    6.,   10.,   15.,   21.,   28.,   36.,   45.,\n",
      "          55.,   66.,   78.,   91.,  105.,  120.,  136.,  153.,  171.,\n",
      "         190.,  210.,  231.,  253.,  276.,  300.],\n",
      "       [   1.,    2.,    4.,    7.,   11.,   16.,   22.,   29.,   37.,\n",
      "          46.,   56.,   67.,   79.,   92.,  106.,  121.,  137.,  154.,\n",
      "         172.,  191.,  211.,  232.,  254.,  277.],\n",
      "       [   2.,    1.,    2.,    4.,    7.,   11.,   16.,   22.,   29.,\n",
      "          37.,   46.,   56.,   67.,   79.,   92.,  106.,  121.,  137.,\n",
      "         154.,  172.,  191.,  211.,  232.,  254.],\n",
      "       [   4.,    2.,    1.,    2.,    4.,    7.,   11.,   16.,   22.,\n",
      "          29.,   37.,   46.,   56.,   67.,   79.,   92.,  106.,  121.,\n",
      "         137.,  154.,  172.,  191.,  211.,  232.],\n",
      "       [   7.,    4.,    2.,    1.,    2.,    4.,    7.,   11.,   16.,\n",
      "          22.,   29.,   37.,   46.,   56.,   67.,   79.,   92.,  106.,\n",
      "         121.,  137.,  154.,  172.,  191.,  211.],\n",
      "       [  11.,    7.,    4.,    2.,    1.,    2.,    4.,    7.,   11.,\n",
      "          16.,   22.,   29.,   37.,   46.,   56.,   67.,   79.,   92.,\n",
      "         106.,  121.,  137.,  154.,  172.,  191.],\n",
      "       [  16.,   11.,    7.,    4.,    2.,    1.,    2.,    4.,    7.,\n",
      "          11.,   16.,   22.,   29.,   37.,   46.,   56.,   67.,   79.,\n",
      "          92.,  106.,  121.,  137.,  154.,  172.],\n",
      "       [  22.,   16.,   11.,    7.,    4.,    2.,    1.,    2.,    4.,\n",
      "           7.,   11.,   16.,   22.,   29.,   37.,   46.,   56.,   67.,\n",
      "          79.,   92.,  106.,  121.,  137.,  154.],\n",
      "       [  29.,   22.,   16.,   11.,    7.,    4.,    2.,    1.,    2.,\n",
      "           4.,    7.,   11.,   16.,   22.,   29.,   37.,   46.,   56.,\n",
      "          67.,   79.,   92.,  106.,  121.,  137.],\n",
      "       [  37.,   29.,   22.,   16.,   11.,    7.,    4.,    2.,    1.,\n",
      "           2.,    4.,    7.,   11.,   16.,   22.,   29.,   37.,   46.,\n",
      "          56.,   67.,   79.,   92.,  106.,  121.],\n",
      "       [  46.,   37.,   29.,   22.,   16.,   11.,    7.,    4.,    2.,\n",
      "           1.,    2.,    4.,    7.,   11.,   16.,   22.,   29.,   37.,\n",
      "          46.,   56.,   67.,   79.,   92.,  106.],\n",
      "       [  56.,   46.,   37.,   29.,   22.,   16.,   11.,    7.,    4.,\n",
      "           2.,    1.,    2.,    4.,    7.,   11.,   16.,   22.,   29.,\n",
      "          37.,   46.,   56.,   67.,   79.,   92.],\n",
      "       [  67.,   56.,   46.,   37.,   29.,   22.,   16.,   11.,    7.,\n",
      "           4.,    2.,    1.,    2.,    4.,    7.,   11.,   16.,   22.,\n",
      "          29.,   37.,   46.,   56.,   67.,   79.],\n",
      "       [  79.,   67.,   56.,   46.,   37.,   29.,   22.,   16.,   11.,\n",
      "           7.,    4.,    2.,    1.,    2.,    4.,    7.,   11.,   16.,\n",
      "          22.,   29.,   37.,   46.,   56.,   67.],\n",
      "       [  92.,   79.,   67.,   56.,   46.,   37.,   29.,   22.,   16.,\n",
      "          11.,    7.,    4.,    2.,    1.,    2.,    4.,    7.,   11.,\n",
      "          16.,   22.,   29.,   37.,   46.,   56.],\n",
      "       [ 106.,   92.,   79.,   67.,   56.,   46.,   37.,   29.,   22.,\n",
      "          16.,   11.,    7.,    4.,    2.,    1.,    2.,    4.,    7.,\n",
      "          11.,   16.,   22.,   29.,   37.,   46.],\n",
      "       [ 121.,  106.,   92.,   79.,   67.,   56.,   46.,   37.,   29.,\n",
      "          22.,   16.,   11.,    7.,    4.,    2.,    1.,    2.,    4.,\n",
      "           7.,   11.,   16.,   22.,   29.,   37.],\n",
      "       [ 137.,  121.,  106.,   92.,   79.,   67.,   56.,   46.,   37.,\n",
      "          29.,   22.,   16.,   11.,    7.,    4.,    2.,    1.,    2.,\n",
      "           4.,    7.,   11.,   16.,   22.,   29.],\n",
      "       [ 154.,  137.,  121.,  106.,   92.,   79.,   67.,   56.,   46.,\n",
      "          37.,   29.,   22.,   16.,   11.,    7.,    4.,    2.,    1.,\n",
      "           2.,    4.,    7.,   11.,   16.,   22.],\n",
      "       [ 172.,  154.,  137.,  121.,  106.,   92.,   79.,   67.,   56.,\n",
      "          46.,   37.,   29.,   22.,   16.,   11.,    7.,    4.,    2.,\n",
      "           1.,    2.,    4.,    7.,   11.,   16.],\n",
      "       [ 191.,  172.,  154.,  137.,  121.,  106.,   92.,   79.,   67.,\n",
      "          56.,   46.,   37.,   29.,   22.,   16.,   11.,    7.,    4.,\n",
      "           2.,    1.,    2.,    4.,    7.,   11.],\n",
      "       [ 211.,  191.,  172.,  154.,  137.,  121.,  106.,   92.,   79.,\n",
      "          67.,   56.,   46.,   37.,   29.,   22.,   16.,   11.,    7.,\n",
      "           4.,    2.,    1.,    2.,    4.,    7.],\n",
      "       [ 232.,  211.,  191.,  172.,  154.,  137.,  121.,  106.,   92.,\n",
      "          79.,   67.,   56.,   46.,   37.,   29.,   22.,   16.,   11.,\n",
      "           7.,    4.,    2.,    1.,    2.,    4.],\n",
      "       [ 254.,  232.,  211.,  191.,  172.,  154.,  137.,  121.,  106.,\n",
      "          92.,   79.,   67.,   56.,   46.,   37.,   29.,   22.,   16.,\n",
      "          11.,    7.,    4.,    2.,    1.,    2.]]), (array([ 0,  1,  2,  3,  4,  5,  6,  7,  8,  9, 10, 11, 12, 13, 14, 15, 16,\n",
      "       17, 18, 19, 20, 21, 22, 23, 23]), array([ 0,  0,  1,  2,  3,  4,  5,  6,  7,  8,  9, 10, 11, 12, 13, 14, 15,\n",
      "       16, 17, 18, 19, 20, 21, 22, 23])))\n"
     ]
    }
   ],
   "source": [
    "x1 = [i for i in xrange(24)]\n",
    "x2 = [i + 1 for i in xrange(24)]\n",
    "import numpy as np\n",
    "from dtw import dtw\n",
    "x1 = np.asarray(x1, dtype=np.float64)\n",
    "x2 = np.asarray(x2, dtype=np.float64)\n",
    "from src.knn.distance import multidimensional_dynamic_time_warping\n",
    "print multidimensional_dynamic_time_warping(x1, x2)\n",
    "from src.c_sources.c_distances import md_dtw\n",
    "print md_dtw(x1, x2)\n",
    "print dtw(x1, x2, dist=lambda x, y: abs(x - y))"
   ]
  },
  {
   "cell_type": "code",
   "execution_count": 1,
   "metadata": {
    "collapsed": false
   },
   "outputs": [
    {
     "name": "stdout",
     "output_type": "stream",
     "text": [
      "OK\n"
     ]
    }
   ],
   "source": [
    "import heapq\n",
    "import itertools\n",
    "\n",
    "import numpy as np\n",
    "import pickle\n",
    "\n",
    "from pymongo import MongoClient\n",
    "from sklearn.neighbors import NearestNeighbors\n",
    "\n",
    "from src.import_data import DB_NAME\n",
    "\n",
    "with MongoClient() as client:\n",
    "    db = client[DB_NAME]\n",
    "    collection = db.training_data\n",
    "    cursor1 = collection.find(projection={'_id': True}, modifiers={\"$snapshot\": True})\n",
    "    ids1 = []\n",
    "    for obj in cursor1:\n",
    "        ids1.append(obj['_id'])\n",
    "    cursor1.close()\n",
    "    cursor2 = collection.find(projection={'_id': True}, modifiers={\"$snapshot\": True})\n",
    "    ids2 = []\n",
    "    for obj in cursor2:\n",
    "        ids2.append(obj['_id'])\n",
    "    cursor2.close()\n",
    "    assert ids1 == ids2\n",
    "    print 'OK'"
   ]
  },
  {
   "cell_type": "code",
   "execution_count": null,
   "metadata": {
    "collapsed": false
   },
   "outputs": [
    {
     "name": "stdout",
     "output_type": "stream",
     "text": [
      "data loaded\n"
     ]
    }
   ],
   "source": [
    "from src.c_sources.c_distances import md_dtw\n",
    "from src.knn.knn import knn\n",
    "knn(md_dtw)"
   ]
  },
  {
   "cell_type": "code",
   "execution_count": 1,
   "metadata": {
    "collapsed": true
   },
   "outputs": [],
   "source": [
    "from src.knn.normalization import normalize\n",
    "normalize()\n"
   ]
  },
  {
   "cell_type": "code",
   "execution_count": 17,
   "metadata": {
    "collapsed": false
   },
   "outputs": [
    {
     "name": "stdout",
     "output_type": "stream",
     "text": [
      "SUMMARY:\n",
      "training_data\n"
     ]
    },
    {
     "ename": "OperationFailure",
     "evalue": "command SON([('aggregate', u'training_data'), ('pipeline', [{'$group': {'count': {'$sum': 1}, '_id': {'label': '$label'}, 'label': '$label'}}]), ('cursor', {})]) on namespace aaia_competition.$cmd failed: the group aggregate field 'label' must be defined as an expression inside an object",
     "output_type": "error",
     "traceback": [
      "\u001b[0;31m---------------------------------------------------------------------------\u001b[0m",
      "\u001b[0;31mOperationFailure\u001b[0m                          Traceback (most recent call last)",
      "\u001b[0;32m<ipython-input-17-4ff598c76039>\u001b[0m in \u001b[0;36m<module>\u001b[0;34m()\u001b[0m\n\u001b[1;32m     40\u001b[0m         \u001b[0mcollection\u001b[0m \u001b[0;34m=\u001b[0m \u001b[0mdb\u001b[0m\u001b[0;34m[\u001b[0m\u001b[0mcollection_name\u001b[0m\u001b[0;34m]\u001b[0m\u001b[0;34m\u001b[0m\u001b[0m\n\u001b[1;32m     41\u001b[0m         \u001b[0;32mfor\u001b[0m \u001b[0mgroup_by_clause\u001b[0m \u001b[0;32min\u001b[0m \u001b[0mgroup_by_clauses\u001b[0m\u001b[0;34m:\u001b[0m\u001b[0;34m\u001b[0m\u001b[0m\n\u001b[0;32m---> 42\u001b[0;31m             \u001b[0mresult\u001b[0m \u001b[0;34m=\u001b[0m \u001b[0mlist\u001b[0m\u001b[0;34m(\u001b[0m\u001b[0mcollection\u001b[0m\u001b[0;34m.\u001b[0m\u001b[0maggregate\u001b[0m\u001b[0;34m(\u001b[0m\u001b[0mgroup_by_clause\u001b[0m\u001b[0;34m)\u001b[0m\u001b[0;34m)\u001b[0m\u001b[0;34m\u001b[0m\u001b[0m\n\u001b[0m\u001b[1;32m     43\u001b[0m             \u001b[0mgroup_by\u001b[0m \u001b[0;34m=\u001b[0m \u001b[0;34m\", \"\u001b[0m\u001b[0;34m.\u001b[0m\u001b[0mjoin\u001b[0m\u001b[0;34m(\u001b[0m\u001b[0mresult\u001b[0m\u001b[0;34m[\u001b[0m\u001b[0;36m0\u001b[0m\u001b[0;34m]\u001b[0m\u001b[0;34m[\u001b[0m\u001b[0;34m\"_id\"\u001b[0m\u001b[0;34m]\u001b[0m\u001b[0;34m.\u001b[0m\u001b[0mkeys\u001b[0m\u001b[0;34m(\u001b[0m\u001b[0;34m)\u001b[0m\u001b[0;34m)\u001b[0m\u001b[0;34m\u001b[0m\u001b[0m\n\u001b[1;32m     44\u001b[0m             \u001b[0;32mprint\u001b[0m \u001b[0mgroup_by\u001b[0m\u001b[0;34m\u001b[0m\u001b[0m\n",
      "\u001b[0;32m/usr/local/lib/python2.7/site-packages/pymongo/collection.pyc\u001b[0m in \u001b[0;36maggregate\u001b[0;34m(self, pipeline, **kwargs)\u001b[0m\n\u001b[1;32m   1663\u001b[0m                 \u001b[0;32melse\u001b[0m\u001b[0;34m:\u001b[0m\u001b[0;34m\u001b[0m\u001b[0m\n\u001b[1;32m   1664\u001b[0m                     result = self._command(sock_info, cmd, slave_ok,\n\u001b[0;32m-> 1665\u001b[0;31m                                            read_concern=self.read_concern)\n\u001b[0m\u001b[1;32m   1666\u001b[0m             \u001b[0;32melse\u001b[0m\u001b[0;34m:\u001b[0m\u001b[0;34m\u001b[0m\u001b[0m\n\u001b[1;32m   1667\u001b[0m                 \u001b[0mresult\u001b[0m \u001b[0;34m=\u001b[0m \u001b[0mself\u001b[0m\u001b[0;34m.\u001b[0m\u001b[0m_command\u001b[0m\u001b[0;34m(\u001b[0m\u001b[0msock_info\u001b[0m\u001b[0;34m,\u001b[0m \u001b[0mcmd\u001b[0m\u001b[0;34m,\u001b[0m \u001b[0mslave_ok\u001b[0m\u001b[0;34m)\u001b[0m\u001b[0;34m\u001b[0m\u001b[0m\n",
      "\u001b[0;32m/usr/local/lib/python2.7/site-packages/pymongo/collection.pyc\u001b[0m in \u001b[0;36m_command\u001b[0;34m(self, sock_info, command, slave_ok, read_preference, codec_options, check, allowable_errors, read_concern)\u001b[0m\n\u001b[1;32m    203\u001b[0m                                  \u001b[0mcheck\u001b[0m\u001b[0;34m,\u001b[0m\u001b[0;34m\u001b[0m\u001b[0m\n\u001b[1;32m    204\u001b[0m                                  \u001b[0mallowable_errors\u001b[0m\u001b[0;34m,\u001b[0m\u001b[0;34m\u001b[0m\u001b[0m\n\u001b[0;32m--> 205\u001b[0;31m                                  read_concern=read_concern)\n\u001b[0m\u001b[1;32m    206\u001b[0m \u001b[0;34m\u001b[0m\u001b[0m\n\u001b[1;32m    207\u001b[0m     \u001b[0;32mdef\u001b[0m \u001b[0m__create\u001b[0m\u001b[0;34m(\u001b[0m\u001b[0mself\u001b[0m\u001b[0;34m,\u001b[0m \u001b[0moptions\u001b[0m\u001b[0;34m)\u001b[0m\u001b[0;34m:\u001b[0m\u001b[0;34m\u001b[0m\u001b[0m\n",
      "\u001b[0;32m/usr/local/lib/python2.7/site-packages/pymongo/pool.pyc\u001b[0m in \u001b[0;36mcommand\u001b[0;34m(self, dbname, spec, slave_ok, read_preference, codec_options, check, allowable_errors, check_keys, read_concern)\u001b[0m\n\u001b[1;32m    211\u001b[0m                            \u001b[0mcheck\u001b[0m\u001b[0;34m,\u001b[0m \u001b[0mallowable_errors\u001b[0m\u001b[0;34m,\u001b[0m \u001b[0mself\u001b[0m\u001b[0;34m.\u001b[0m\u001b[0maddress\u001b[0m\u001b[0;34m,\u001b[0m\u001b[0;34m\u001b[0m\u001b[0m\n\u001b[1;32m    212\u001b[0m                            \u001b[0mcheck_keys\u001b[0m\u001b[0;34m,\u001b[0m \u001b[0mself\u001b[0m\u001b[0;34m.\u001b[0m\u001b[0mlisteners\u001b[0m\u001b[0;34m,\u001b[0m \u001b[0mself\u001b[0m\u001b[0;34m.\u001b[0m\u001b[0mmax_bson_size\u001b[0m\u001b[0;34m,\u001b[0m\u001b[0;34m\u001b[0m\u001b[0m\n\u001b[0;32m--> 213\u001b[0;31m                            read_concern)\n\u001b[0m\u001b[1;32m    214\u001b[0m         \u001b[0;32mexcept\u001b[0m \u001b[0mOperationFailure\u001b[0m\u001b[0;34m:\u001b[0m\u001b[0;34m\u001b[0m\u001b[0m\n\u001b[1;32m    215\u001b[0m             \u001b[0;32mraise\u001b[0m\u001b[0;34m\u001b[0m\u001b[0m\n",
      "\u001b[0;32m/usr/local/lib/python2.7/site-packages/pymongo/network.pyc\u001b[0m in \u001b[0;36mcommand\u001b[0;34m(sock, dbname, spec, slave_ok, is_mongos, read_preference, codec_options, check, allowable_errors, address, check_keys, listeners, max_bson_size, read_concern)\u001b[0m\n\u001b[1;32m     99\u001b[0m             msg = \"command %s on namespace %s failed: %%s\" % (\n\u001b[1;32m    100\u001b[0m                 repr(spec).replace(\"%\", \"%%\"), ns)\n\u001b[0;32m--> 101\u001b[0;31m             \u001b[0mhelpers\u001b[0m\u001b[0;34m.\u001b[0m\u001b[0m_check_command_response\u001b[0m\u001b[0;34m(\u001b[0m\u001b[0mresponse_doc\u001b[0m\u001b[0;34m,\u001b[0m \u001b[0mmsg\u001b[0m\u001b[0;34m,\u001b[0m \u001b[0mallowable_errors\u001b[0m\u001b[0;34m)\u001b[0m\u001b[0;34m\u001b[0m\u001b[0m\n\u001b[0m\u001b[1;32m    102\u001b[0m     \u001b[0;32mexcept\u001b[0m \u001b[0mException\u001b[0m \u001b[0;32mas\u001b[0m \u001b[0mexc\u001b[0m\u001b[0;34m:\u001b[0m\u001b[0;34m\u001b[0m\u001b[0m\n\u001b[1;32m    103\u001b[0m         \u001b[0;32mif\u001b[0m \u001b[0mpublish\u001b[0m\u001b[0;34m:\u001b[0m\u001b[0;34m\u001b[0m\u001b[0m\n",
      "\u001b[0;32m/usr/local/lib/python2.7/site-packages/pymongo/helpers.pyc\u001b[0m in \u001b[0;36m_check_command_response\u001b[0;34m(response, msg, allowable_errors)\u001b[0m\n\u001b[1;32m    194\u001b[0m \u001b[0;34m\u001b[0m\u001b[0m\n\u001b[1;32m    195\u001b[0m             \u001b[0mmsg\u001b[0m \u001b[0;34m=\u001b[0m \u001b[0mmsg\u001b[0m \u001b[0;32mor\u001b[0m \u001b[0;34m\"%s\"\u001b[0m\u001b[0;34m\u001b[0m\u001b[0m\n\u001b[0;32m--> 196\u001b[0;31m             \u001b[0;32mraise\u001b[0m \u001b[0mOperationFailure\u001b[0m\u001b[0;34m(\u001b[0m\u001b[0mmsg\u001b[0m \u001b[0;34m%\u001b[0m \u001b[0merrmsg\u001b[0m\u001b[0;34m,\u001b[0m \u001b[0mcode\u001b[0m\u001b[0;34m,\u001b[0m \u001b[0mresponse\u001b[0m\u001b[0;34m)\u001b[0m\u001b[0;34m\u001b[0m\u001b[0m\n\u001b[0m\u001b[1;32m    197\u001b[0m \u001b[0;34m\u001b[0m\u001b[0m\n\u001b[1;32m    198\u001b[0m \u001b[0;34m\u001b[0m\u001b[0m\n",
      "\u001b[0;31mOperationFailure\u001b[0m: command SON([('aggregate', u'training_data'), ('pipeline', [{'$group': {'count': {'$sum': 1}, '_id': {'label': '$label'}, 'label': '$label'}}]), ('cursor', {})]) on namespace aaia_competition.$cmd failed: the group aggregate field 'label' must be defined as an expression inside an object"
     ]
    }
   ],
   "source": [
    "from pymongo import MongoClient\n",
    "\n",
    "from src.import_data import DB_NAME\n",
    "\n",
    "with MongoClient() as client:\n",
    "    db = client[DB_NAME]\n",
    "    collection_names = ['training_data', 'test_data']\n",
    "    group_by_clauses = [\n",
    "        [{\n",
    "            \"$group\": {\n",
    "                \"_id\": {\"label\": \"$label\"},\n",
    "                \"count\": {\"$sum\": 1},\n",
    "            }\n",
    "        }],\n",
    "        [{\n",
    "            \"$group\": {\n",
    "                \"_id\": {\"working_id\": \"$main_working_id\", \"label\": \"$label\"},\n",
    "                \"count\": {\"$sum\": 1}\n",
    "            }\n",
    "        }],\n",
    "        [{\n",
    "            \"$group\": {\n",
    "                \"_id\": {\"file\": \"$file\", \"label\": \"$label\"},\n",
    "                \"count\": {\"$sum\": 1},\n",
    "            }\n",
    "        }],\n",
    "        [{\n",
    "            \"$group\": {\n",
    "                \"_id\": {\"file\": \"$file\", \"working_id\": \"$main_working_id\", \"label\": \"$label\"},\n",
    "                \"count\": {\"$sum\": 1},\n",
    "            }\n",
    "        }],\n",
    "    ]\n",
    "    print \"SUMMARY:\"\n",
    "    for collection_name in collection_names:\n",
    "        print collection_name\n",
    "        collection = db[collection_name]\n",
    "        for group_by_clause in group_by_clauses:\n",
    "            result = list(collection.aggregate(group_by_clause))\n",
    "            group_by = \", \".join(result[0][\"_id\"].keys())\n",
    "            print group_by\n",
    "            temp_result = {}\n",
    "            for elem in result:\n",
    "                label = elem[\"_id\"].pop(\"label\")\n",
    "                groupby_id = \", \".join(map(str, elem[\"_id\"].values()))\n",
    "                temp_result.append((groupby_id, elem['count']))\n",
    "            temp_result.sort()\n",
    "            for groupby_id, count in temp_result:\n",
    "                print \"\\t{}: {}\".format(groupby_id, count)\n",
    "            print "
   ]
  },
  {
   "cell_type": "code",
   "execution_count": 16,
   "metadata": {
    "collapsed": false,
    "scrolled": true
   },
   "outputs": [
    {
     "name": "stdout",
     "output_type": "stream",
     "text": [
      "set([u'799', u'703', u'641', u'470', u'689', u'508', u'490', u'171'])\n"
     ]
    }
   ],
   "source": [
    "from pymongo import MongoClient\n",
    "\n",
    "from src.import_data import DB_NAME\n",
    "\n",
    "with MongoClient() as client:\n",
    "    db = client[DB_NAME]\n",
    "    training_working_ids = set(db.training_data.distinct(\"main_working_id\"))\n",
    "    test_working_ids = set(db.test_data.distinct(\"main_working_id\"))\n",
    "    print test_working_ids - training_working_ids"
   ]
  },
  {
   "cell_type": "code",
   "execution_count": null,
   "metadata": {
    "collapsed": true
   },
   "outputs": [],
   "source": []
  }
 ],
 "metadata": {
  "kernelspec": {
   "display_name": "Python 2",
   "language": "python",
   "name": "python2"
  },
  "language_info": {
   "codemirror_mode": {
    "name": "ipython",
    "version": 2
   },
   "file_extension": ".py",
   "mimetype": "text/x-python",
   "name": "python",
   "nbconvert_exporter": "python",
   "pygments_lexer": "ipython2",
   "version": "2.7.11"
  }
 },
 "nbformat": 4,
 "nbformat_minor": 0
}
